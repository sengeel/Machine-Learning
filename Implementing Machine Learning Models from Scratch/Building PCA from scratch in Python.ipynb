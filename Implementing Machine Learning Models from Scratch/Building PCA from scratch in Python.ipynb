{
 "cells": [
  {
   "cell_type": "code",
   "execution_count": 1,
   "metadata": {},
   "outputs": [],
   "source": [
    "import numpy as np\n",
    "\n",
    "class PCA:\n",
    "    def __init__(self, n_components):\n",
    "        self.n_components = n_components\n",
    "        self.components = None\n",
    "        self.mean = None\n",
    "        self.explained_variance_ = None\n",
    "        \n",
    "    def fit(self, X):\n",
    "        # 1. Center the data by subtracting the mean\n",
    "        self.mean = np.mean(X, axis=0)\n",
    "        X_centered = X - self.mean\n",
    "        \n",
    "        # 2. Calculate the covariance matrix\n",
    "        # For n samples and p features, shape will be (p x p)\n",
    "        cov_matrix = np.cov(X_centered, rowvar=False)\n",
    "        \n",
    "        # 3. Calculate eigenvalues and eigenvectors of covariance matrix\n",
    "        eigenvalues, eigenvectors = np.linalg.eigh(cov_matrix)\n",
    "        \n",
    "        # 4. Sort eigenvalues and eigenvectors in descending order\n",
    "        idx = np.argsort(eigenvalues)[::-1]\n",
    "        eigenvalues = eigenvalues[idx]\n",
    "        eigenvectors = eigenvectors[:, idx]\n",
    "        \n",
    "        # 5. Store first n_components eigenvectors\n",
    "        self.components = eigenvectors[:, :self.n_components]\n",
    "        \n",
    "        # 6. Store explained variance\n",
    "        self.explained_variance_ = eigenvalues[:self.n_components]\n",
    "        \n",
    "        return self\n",
    "    \n",
    "    def transform(self, X):\n",
    "        # Center the data using mean from fit\n",
    "        X_centered = X - self.mean\n",
    "        \n",
    "        # Project data onto principal components\n",
    "        X_transformed = np.dot(X_centered, self.components)\n",
    "        \n",
    "        return X_transformed"
   ]
  }
 ],
 "metadata": {
  "kernelspec": {
   "display_name": "python_course",
   "language": "python",
   "name": "python3"
  },
  "language_info": {
   "codemirror_mode": {
    "name": "ipython",
    "version": 3
   },
   "file_extension": ".py",
   "mimetype": "text/x-python",
   "name": "python",
   "nbconvert_exporter": "python",
   "pygments_lexer": "ipython3",
   "version": "3.11.9"
  }
 },
 "nbformat": 4,
 "nbformat_minor": 2
}
